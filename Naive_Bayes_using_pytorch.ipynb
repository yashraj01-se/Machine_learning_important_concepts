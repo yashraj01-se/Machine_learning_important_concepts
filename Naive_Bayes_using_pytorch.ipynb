{
  "nbformat": 4,
  "nbformat_minor": 0,
  "metadata": {
    "colab": {
      "provenance": [],
      "authorship_tag": "ABX9TyPQG5VXK36ElJHJdUikx/tw",
      "include_colab_link": true
    },
    "kernelspec": {
      "name": "python3",
      "display_name": "Python 3"
    },
    "language_info": {
      "name": "python"
    }
  },
  "cells": [
    {
      "cell_type": "markdown",
      "metadata": {
        "id": "view-in-github",
        "colab_type": "text"
      },
      "source": [
        "<a href=\"https://colab.research.google.com/github/yashraj01-se/Machine_learning_important_concepts/blob/main/Naive_Bayes_using_pytorch.ipynb\" target=\"_parent\"><img src=\"https://colab.research.google.com/assets/colab-badge.svg\" alt=\"Open In Colab\"/></a>"
      ]
    },
    {
      "cell_type": "code",
      "execution_count": 1,
      "metadata": {
        "id": "BKMbgp3qf7o_"
      },
      "outputs": [],
      "source": [
        "import torch\n",
        "from collections import Counter"
      ]
    },
    {
      "cell_type": "markdown",
      "source": [
        "#step 1: Dataset :"
      ],
      "metadata": {
        "id": "4nFjhquViH2G"
      }
    },
    {
      "cell_type": "code",
      "source": [
        "docs  = [\"free money offer\",\n",
        "         \"win money win\",\n",
        "         \"meeting schedule\",\n",
        "         \"project meeting\",\n",
        "         \"meeting on time\",\n",
        "         \"free money to you\",\n",
        "         \"free free free\",\n",
        "         \"meeting is reschedule\",\n",
        "         \"meeting is must\",\n",
        "         \"free of cost\"]\n",
        "labels=torch.tensor([1,1,0,0,0,1,1,0,0,1],dtype=torch.int) #1 spam 0 not spam\n",
        "vocab=[\"free\",\"money\",\"meeting\",\"schedule\",\"offer\"]\n",
        "\n",
        "word2idx={w:i for i,w in enumerate(vocab)}"
      ],
      "metadata": {
        "id": "F6lPOaA-hDxQ"
      },
      "execution_count": 11,
      "outputs": []
    },
    {
      "cell_type": "markdown",
      "source": [
        "#step 2: Bag of vector :\n",
        "#vec → [0, 1, 2, 0, 1]  \n",
        "#        ↑ ↑ ↑    ↑\n",
        "#      free win money meeting offer"
      ],
      "metadata": {
        "id": "enzOGjGJiFzD"
      }
    },
    {
      "cell_type": "code",
      "source": [
        "def bow_vector(text):\n",
        "  vec=torch.zeros(len(vocab))\n",
        "  for w in text.split():\n",
        "    if w in word2idx:\n",
        "      vec[word2idx[w]]+=1\n",
        "  return vec"
      ],
      "metadata": {
        "id": "uPl0YpP3iFGN"
      },
      "execution_count": 16,
      "outputs": []
    },
    {
      "cell_type": "markdown",
      "source": [
        "#Emails converted to tensor:"
      ],
      "metadata": {
        "id": "v6684g6plgqH"
      }
    },
    {
      "cell_type": "code",
      "source": [
        "X = torch.stack([bow_vector(d) for d in docs])   # shape (4 emails, 5 words)"
      ],
      "metadata": {
        "id": "3gRmwuVgkh-P"
      },
      "execution_count": 17,
      "outputs": []
    },
    {
      "cell_type": "code",
      "source": [
        "print(X)"
      ],
      "metadata": {
        "colab": {
          "base_uri": "https://localhost:8080/"
        },
        "id": "R6OsOShAlUH3",
        "outputId": "961f840f-6b12-4830-c935-b3664dde961f"
      },
      "execution_count": 18,
      "outputs": [
        {
          "output_type": "stream",
          "name": "stdout",
          "text": [
            "tensor([[1., 1., 0., 0., 1.],\n",
            "        [0., 1., 0., 0., 0.],\n",
            "        [0., 0., 1., 1., 0.],\n",
            "        [0., 0., 1., 0., 0.],\n",
            "        [0., 0., 1., 0., 0.],\n",
            "        [1., 1., 0., 0., 0.],\n",
            "        [3., 0., 0., 0., 0.],\n",
            "        [0., 0., 1., 0., 0.],\n",
            "        [0., 0., 1., 0., 0.],\n",
            "        [1., 0., 0., 0., 0.]])\n"
          ]
        }
      ]
    },
    {
      "cell_type": "markdown",
      "source": [
        "#Laplace smoothing to avid unseen word prob:"
      ],
      "metadata": {
        "id": "DXV9ZWSwlt_R"
      }
    },
    {
      "cell_type": "code",
      "source": [
        "alpha=1.0\n",
        "V=X.size(1)"
      ],
      "metadata": {
        "id": "ryjZ0DiYltpX"
      },
      "execution_count": 23,
      "outputs": []
    },
    {
      "cell_type": "markdown",
      "source": [
        "#calculated the priors:"
      ],
      "metadata": {
        "id": "JSN8OMPBmte1"
      }
    },
    {
      "cell_type": "code",
      "source": [
        "class_count=torch.bincount(labels)\n",
        "proirs=class_count/class_count.sum()\n",
        "print(proirs)"
      ],
      "metadata": {
        "colab": {
          "base_uri": "https://localhost:8080/"
        },
        "id": "F7Q6laCmlmiN",
        "outputId": "17e92247-cd3b-467b-ed94-7edb618fb172"
      },
      "execution_count": 37,
      "outputs": [
        {
          "output_type": "stream",
          "name": "stdout",
          "text": [
            "tensor([0.5000, 0.5000])\n"
          ]
        }
      ]
    },
    {
      "cell_type": "code",
      "source": [
        "spam_mask=labels==1\n",
        "non_spam_mask=labels==0"
      ],
      "metadata": {
        "id": "J4txAPD3mrzj"
      },
      "execution_count": 25,
      "outputs": []
    },
    {
      "cell_type": "markdown",
      "source": [
        "#calculating the likelihood:"
      ],
      "metadata": {
        "id": "eXPLa_1knXEp"
      }
    },
    {
      "cell_type": "code",
      "source": [
        "word_cound_spam=X[spam_mask].sum(0)+ alpha #this is a vector\n",
        "word_cound_non_spam=X[non_spam_mask].sum(0)+alpha #this is a vector\n",
        "\n",
        "likelihood_spam=word_cound_spam/word_cound_spam.sum()\n",
        "likelihood_not_spam=word_cound_non_spam/word_cound_non_spam.sum()\n",
        "\n",
        "print(word_cound_spam)\n",
        "print(word_cound_non_spam)\n",
        "print(word_cound_spam.sum())\n",
        "print(word_cound_non_spam.sum())\n",
        "print(likelihood_spam)\n",
        "print(likelihood_not_spam)"
      ],
      "metadata": {
        "colab": {
          "base_uri": "https://localhost:8080/"
        },
        "id": "BUep74a3nWry",
        "outputId": "1d95412a-4cb5-4a90-c11d-a037981ce138"
      },
      "execution_count": 39,
      "outputs": [
        {
          "output_type": "stream",
          "name": "stdout",
          "text": [
            "tensor([7., 4., 1., 1., 2.])\n",
            "tensor([1., 1., 6., 2., 1.])\n",
            "tensor(15.)\n",
            "tensor(11.)\n",
            "tensor([0.4667, 0.2667, 0.0667, 0.0667, 0.1333])\n",
            "tensor([0.0909, 0.0909, 0.5455, 0.1818, 0.0909])\n"
          ]
        }
      ]
    },
    {
      "cell_type": "markdown",
      "source": [
        "#classifying the email:"
      ],
      "metadata": {
        "id": "zKdxTadOp4xm"
      }
    },
    {
      "cell_type": "code",
      "source": [
        "def predict(text):\n",
        "  x=bow_vector(text)\n",
        "  #comput the log posterior of each class:\n",
        "  log_pos_spam=(x* likelihood_spam.log()).sum()+proirs[1].log()\n",
        "  log_pos_not_spam=(x*likelihood_not_spam.log()).sum()+proirs[0].log()\n",
        "\n",
        "  return \"This is a Spam Email. Be Aware\" if log_pos_spam>log_pos_not_spam else \"Important Email\""
      ],
      "metadata": {
        "id": "AXf5moO3p3oY"
      },
      "execution_count": 45,
      "outputs": []
    },
    {
      "cell_type": "code",
      "source": [
        "predict(\"Free invitation for money\")"
      ],
      "metadata": {
        "colab": {
          "base_uri": "https://localhost:8080/",
          "height": 35
        },
        "id": "cdoXBgTYr5ti",
        "outputId": "25d5afb4-e491-4383-fe88-b28ede1da8ec"
      },
      "execution_count": 44,
      "outputs": [
        {
          "output_type": "execute_result",
          "data": {
            "text/plain": [
              "'This is a Spam Email. Be Aware'"
            ],
            "application/vnd.google.colaboratory.intrinsic+json": {
              "type": "string"
            }
          },
          "metadata": {},
          "execution_count": 44
        }
      ]
    }
  ]
}