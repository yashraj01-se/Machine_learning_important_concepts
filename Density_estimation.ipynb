{
  "nbformat": 4,
  "nbformat_minor": 0,
  "metadata": {
    "colab": {
      "provenance": [],
      "authorship_tag": "ABX9TyNiHzuxaqSCA0taWhBFHAD6",
      "include_colab_link": true
    },
    "kernelspec": {
      "name": "python3",
      "display_name": "Python 3"
    },
    "language_info": {
      "name": "python"
    }
  },
  "cells": [
    {
      "cell_type": "markdown",
      "metadata": {
        "id": "view-in-github",
        "colab_type": "text"
      },
      "source": [
        "<a href=\"https://colab.research.google.com/github/yashraj01-se/Machine_learning_important_concepts/blob/main/Density_estimation.ipynb\" target=\"_parent\"><img src=\"https://colab.research.google.com/assets/colab-badge.svg\" alt=\"Open In Colab\"/></a>"
      ]
    },
    {
      "cell_type": "code",
      "execution_count": 1,
      "metadata": {
        "colab": {
          "base_uri": "https://localhost:8080/"
        },
        "id": "0vLV0ePyB8Ox",
        "outputId": "5a5e1e7d-c7b3-4a04-f5b4-fa36b9eee531"
      },
      "outputs": [
        {
          "output_type": "stream",
          "name": "stdout",
          "text": [
            "Estimated Mean (μ): 1.00\n",
            "Estimated Std Dev (σ): 0.06\n",
            "x = 0.92, p(x) = 2.6977 → Normal\n",
            "x = 1.03, p(x) = 5.6437 → Normal\n",
            "x = 1.50, p(x) = 0.0000 → Anomaly\n",
            "x = 2.00, p(x) = 0.0000 → Anomaly\n",
            "x = -1.00, p(x) = 0.0000 → Anomaly\n"
          ]
        }
      ],
      "source": [
        "import numpy as np\n",
        "import matplotlib.pyplot as plt\n",
        "from scipy.stats import norm\n",
        "\n",
        "# Step 1: Train on normal data (1D for simplicity)\n",
        "train_data = np.array([1.0, 1.1, 0.9, 1.05, 0.95, 1.02])\n",
        "\n",
        "# Estimate parameters of Gaussian\n",
        "mu = np.mean(train_data)\n",
        "sigma = np.std(train_data)\n",
        "\n",
        "print(f\"Estimated Mean (μ): {mu:.2f}\")\n",
        "print(f\"Estimated Std Dev (σ): {sigma:.2f}\")\n",
        "\n",
        "# Step 2: Define test data (some normal, some anomalies)\n",
        "test_data = np.array([0.92, 1.03, 1.5, 2.0, -1.0])\n",
        "\n",
        "# Step 3: Compute probability density for each test point\n",
        "pdfs = norm.pdf(test_data, loc=mu, scale=sigma)\n",
        "\n",
        "# Step 4: Choose threshold ε (manually or based on validation)\n",
        "epsilon = 0.05\n",
        "\n",
        "# Step 5: Classify\n",
        "for x, p in zip(test_data, pdfs):\n",
        "    label = \"Anomaly\" if p < epsilon else \"Normal\"\n",
        "    print(f\"x = {x:.2f}, p(x) = {p:.4f} → {label}\")\n"
      ]
    }
  ]
}